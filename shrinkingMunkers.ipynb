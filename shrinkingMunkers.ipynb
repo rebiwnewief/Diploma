{
 "cells": [
  {
   "cell_type": "code",
   "execution_count": 1,
   "metadata": {},
   "outputs": [],
   "source": [
    "import numpy as np\n",
    "import pandas as pd\n",
    "import pulp\n",
    "from munkres import Munkres, DISALLOWED"
   ]
  },
  {
   "cell_type": "code",
   "execution_count": 2,
   "metadata": {},
   "outputs": [],
   "source": [
    "m = Munkres()\n",
    "dist_sum = 0"
   ]
  },
  {
   "cell_type": "code",
   "execution_count": 3,
   "metadata": {},
   "outputs": [],
   "source": [
    "df = pd.read_csv(\"../kommi/ftv33.atsp\", header=None, skiprows=2, engine='python')\n",
    "df = df.to_numpy()\n",
    "np.fill_diagonal(df, DISALLOWED)\n",
    "df = df.tolist()"
   ]
  },
  {
   "cell_type": "code",
   "execution_count": 6,
   "metadata": {},
   "outputs": [
    {
     "data": {
      "text/plain": [
       "array([[-99999,     26,     82, ...,    162,     62,     66],\n",
       "       [    66, -99999,     56, ...,    189,    128,     40],\n",
       "       [    43,     57, -99999, ...,    205,    105,     62],\n",
       "       ...,\n",
       "       [   146,    172,    228, ..., -99999,    124,    212],\n",
       "       [   102,    128,    184, ...,    228, -99999,    168],\n",
       "       [    81,     95,     38, ...,    243,    143, -99999]])"
      ]
     },
     "execution_count": 6,
     "metadata": {},
     "output_type": "execute_result"
    }
   ],
   "source": [
    "np.array(df)"
   ]
  },
  {
   "cell_type": "code",
   "execution_count": 3,
   "metadata": {},
   "outputs": [],
   "source": [
    "#diag_max = int(1e8)\n",
    "df = np.zeros((10, 10), dtype = int)\n",
    "df[1, 0] = 32\n",
    "df[2, :2] = np.array([41, 22])\n",
    "df[3, :3] = np.array([22, 50, 63])\n",
    "df[4, :4] = np.array([20, 42, 41, 36])\n",
    "df[5, :5] = np.array([57, 51, 30, 78, 45])\n",
    "df[6, :6] = np.array([54, 61, 45, 72, 36, 22])\n",
    "df[7, :7] = np.array([32, 20, 10, 54, 32, 32, 41])\n",
    "df[8, :8] = np.array([22, 54, 60, 20, 22, 67, 57, 50])\n",
    "df[9, :9] = np.array([45, 51, 36, 64, 28, 20, 10, 32, 50])\n",
    "\n",
    "df = df + df.T\n",
    "np.fill_diagonal(df, DISALLOWED)\n",
    "df = df.tolist()"
   ]
  },
  {
   "cell_type": "code",
   "execution_count": 4,
   "metadata": {},
   "outputs": [
    {
     "name": "stdout",
     "output_type": "stream",
     "text": [
      "(0, 4) -> 20\n",
      "(1, 7) -> 20\n",
      "(2, 1) -> 22\n",
      "(3, 8) -> 20\n",
      "(4, 0) -> 20\n",
      "(5, 9) -> 20\n",
      "(6, 5) -> 22\n",
      "(7, 2) -> 10\n",
      "(8, 3) -> 20\n",
      "(9, 6) -> 10\n",
      "lowest cost=184\n"
     ]
    }
   ],
   "source": [
    "indexes = m.compute(df)\n",
    "total_cost = 0\n",
    "for r, c in indexes:\n",
    "    x = df[r][c]\n",
    "    total_cost += x\n",
    "    print(('(%d, %d) -> %d' % (r, c, x)))\n",
    "print(('lowest cost=%d' % total_cost))\n",
    "dist_sum += total_cost"
   ]
  },
  {
   "cell_type": "code",
   "execution_count": 5,
   "metadata": {},
   "outputs": [
    {
     "data": {
      "text/plain": [
       "array([[-99999,     12,     31,      2,      0,     37,     44,     24,\n",
       "             2,     37],\n",
       "       [     0, -99999,      0,     18,     10,     19,     39,      0,\n",
       "            22,     31],\n",
       "       [    19,      0, -99999,     41,     19,      8,     33,      0,\n",
       "            38,     26],\n",
       "       [     2,     30,     53, -99999,     16,     58,     62,     46,\n",
       "             0,     56],\n",
       "       [     0,     22,     31,     16, -99999,     25,     26,     24,\n",
       "             2,     20],\n",
       "       [    25,     19,      8,     46,     13, -99999,      0,     12,\n",
       "            35,      0],\n",
       "       [    32,     39,     33,     50,     14,      0, -99999,     31,\n",
       "            35,      0],\n",
       "       [    12,      0,      0,     34,     12,     12,     31, -99999,\n",
       "            30,     24],\n",
       "       [     2,     34,     50,      0,      2,     47,     47,     42,\n",
       "        -99999,     42],\n",
       "       [    25,     31,     26,     44,      8,      0,      0,     24,\n",
       "            30, -99999]])"
      ]
     },
     "execution_count": 5,
     "metadata": {},
     "output_type": "execute_result"
    }
   ],
   "source": [
    "np.array(m.C).T"
   ]
  },
  {
   "cell_type": "code",
   "execution_count": 6,
   "metadata": {},
   "outputs": [],
   "source": [
    "def getSets(df, indexes):\n",
    "    subsets = []\n",
    "    isub = 0\n",
    "    N = len(df)\n",
    "    idx = np.zeros(N, dtype=int)\n",
    "    for r, c in indexes:\n",
    "        idx[r] = c\n",
    "\n",
    "    count = 0\n",
    "    while count < N:\n",
    "        for i in range(N):\n",
    "            if idx[i] >= 0:\n",
    "                break\n",
    "        subsets.append([])\n",
    "        while idx[i] >= 0:\n",
    "            subsets[isub].append(i)\n",
    "            iold = i\n",
    "            i = idx[i]\n",
    "            idx[iold] = -1\n",
    "            count += 1\n",
    "        isub += 1\n",
    "    return subsets"
   ]
  },
  {
   "cell_type": "code",
   "execution_count": 7,
   "metadata": {},
   "outputs": [
    {
     "data": {
      "text/plain": [
       "[[0, 4], [1, 7, 2], [3, 8], [5, 9, 6]]"
      ]
     },
     "execution_count": 7,
     "metadata": {},
     "output_type": "execute_result"
    }
   ],
   "source": [
    "Sets0 = getSets(df, indexes)\n",
    "Sets0"
   ]
  },
  {
   "cell_type": "code",
   "execution_count": 8,
   "metadata": {},
   "outputs": [],
   "source": [
    "def min_distance(matrix_prev, loop_1, loop_2):\n",
    "    min_dist = matrix_prev[loop_1[0]][loop_2[0]]\n",
    "    for vertex_1 in loop_1:\n",
    "        for vertex_2 in loop_2:\n",
    "            min_dist = min(min_dist, matrix_prev[vertex_1][vertex_2])\n",
    "    return min_dist"
   ]
  },
  {
   "cell_type": "code",
   "execution_count": 9,
   "metadata": {},
   "outputs": [],
   "source": [
    "#C_ = np.copy(ass_by_Hun.b).flatten()\n",
    "n1 = len(Sets0)\n",
    "C1 = np.zeros((n1, n1), dtype=int).tolist()\n",
    "for i in range(n1):\n",
    "    for j in range(n1):\n",
    "        if i == j:\n",
    "            C1[i][j] = DISALLOWED\n",
    "            continue\n",
    "        C1[i][j] = min_distance(m.C, Sets0[i], Sets0[j])"
   ]
  },
  {
   "cell_type": "code",
   "execution_count": 10,
   "metadata": {},
   "outputs": [
    {
     "data": {
      "text/plain": [
       "[[-99999, 0, 2, 8],\n",
       " [12, -99999, 30, 8],\n",
       " [2, 18, -99999, 30],\n",
       " [20, 8, 42, -99999]]"
      ]
     },
     "execution_count": 10,
     "metadata": {},
     "output_type": "execute_result"
    }
   ],
   "source": [
    "C1"
   ]
  },
  {
   "cell_type": "code",
   "execution_count": 11,
   "metadata": {},
   "outputs": [],
   "source": [
    "def mindist(dist_matrix, dim, i, j):\n",
    "    cur_min = np.inf\n",
    "    for k in range(dim):\n",
    "        if k != j and k != i:\n",
    "            cur_min = min(cur_min, dist_matrix[i][k] + dist_matrix[k][j])\n",
    "    return cur_min"
   ]
  },
  {
   "cell_type": "code",
   "execution_count": 11,
   "metadata": {},
   "outputs": [],
   "source": [
    "def compression(dist_matrix, dim):\n",
    "    for i in range(dim):\n",
    "        for j in range(dim):\n",
    "            if i != j:\n",
    "                cur_mindist = mindist(dist_matrix, dim, i, j)\n",
    "                if dist_matrix[i][j] > cur_mindist:\n",
    "                    dist_matrix[i][j] = cur_mindist\n",
    "                    return True, dist_matrix\n",
    "\n",
    "    return False, dist_matrix"
   ]
  },
  {
   "cell_type": "code",
   "execution_count": 27,
   "metadata": {},
   "outputs": [],
   "source": [
    "# вариант с компресссией за один проход\n",
    "def compression(dist_matrix, dim):\n",
    "    flag = False\n",
    "    for i in range(dim):\n",
    "        for j in range(dim):\n",
    "            if i != j:\n",
    "                cur_mindist = mindist(dist_matrix, dim, i, j)\n",
    "                if dist_matrix[i][j] > cur_mindist:\n",
    "                    dist_matrix[i][j] = cur_mindist\n",
    "                    flag = True #, dist_matrix\n",
    "\n",
    "    return flag, dist_matrix"
   ]
  },
  {
   "cell_type": "code",
   "execution_count": 13,
   "metadata": {
    "scrolled": false
   },
   "outputs": [
    {
     "name": "stdout",
     "output_type": "stream",
     "text": [
      "compression True\n",
      "compression True\n"
     ]
    }
   ],
   "source": [
    "cmprs_status = True\n",
    "before_cmprs = C1.copy()\n",
    "while (cmprs_status):\n",
    "    print(\"compression\", cmprs_status)\n",
    "    cmprs_status, C1 = compression(C1, n1)"
   ]
  },
  {
   "cell_type": "code",
   "execution_count": 14,
   "metadata": {},
   "outputs": [
    {
     "data": {
      "text/plain": [
       "array([[-99999,     12,      2,     20],\n",
       "       [     0, -99999,      2,      8],\n",
       "       [     2,     14, -99999,     22],\n",
       "       [     8,      8,     10, -99999]])"
      ]
     },
     "execution_count": 14,
     "metadata": {},
     "output_type": "execute_result"
    }
   ],
   "source": [
    "np.array(C1).T"
   ]
  },
  {
   "cell_type": "code",
   "execution_count": 15,
   "metadata": {},
   "outputs": [
    {
     "name": "stdout",
     "output_type": "stream",
     "text": [
      "(0, 2) -> 2\n",
      "(1, 3) -> 8\n",
      "(2, 0) -> 2\n",
      "(3, 1) -> 8\n",
      "lowest cost=20\n"
     ]
    }
   ],
   "source": [
    "indexes = m.compute(C1)\n",
    "total_cost = 0\n",
    "for r, c in indexes:\n",
    "    x = C1[r][c]\n",
    "    total_cost += x\n",
    "    print(('(%d, %d) -> %d' % (r, c, x)))\n",
    "print(('lowest cost=%d' % total_cost))\n",
    "dist_sum += total_cost"
   ]
  },
  {
   "cell_type": "code",
   "execution_count": 16,
   "metadata": {},
   "outputs": [
    {
     "data": {
      "text/plain": [
       "array([[-99999,      4,      0,     12],\n",
       "       [     0, -99999,      0,      0],\n",
       "       [     0,      4, -99999,     12],\n",
       "       [     8,      0,      8, -99999]])"
      ]
     },
     "execution_count": 16,
     "metadata": {},
     "output_type": "execute_result"
    }
   ],
   "source": [
    "np.array(m.C).T"
   ]
  },
  {
   "cell_type": "code",
   "execution_count": 17,
   "metadata": {},
   "outputs": [
    {
     "data": {
      "text/plain": [
       "[[0, 2], [1, 3]]"
      ]
     },
     "execution_count": 17,
     "metadata": {},
     "output_type": "execute_result"
    }
   ],
   "source": [
    "Sets1 = getSets(C1, indexes)\n",
    "Sets1"
   ]
  },
  {
   "cell_type": "code",
   "execution_count": 18,
   "metadata": {},
   "outputs": [],
   "source": [
    "#C_ = np.copy(ass_by_Hun.b).flatten()\n",
    "n2 = len(Sets1)\n",
    "C2 = np.zeros((n2, n2), dtype=int).tolist()\n",
    "for i in range(n2):\n",
    "    for j in range(n2):\n",
    "        if i == j:\n",
    "            C2[i][j] = DISALLOWED\n",
    "            continue\n",
    "        C2[i][j] = min_distance(m.C, Sets1[i], Sets1[j])"
   ]
  },
  {
   "cell_type": "code",
   "execution_count": 19,
   "metadata": {
    "scrolled": true
   },
   "outputs": [
    {
     "name": "stdout",
     "output_type": "stream",
     "text": [
      "compression True\n"
     ]
    }
   ],
   "source": [
    "cmprs_status = True\n",
    "before_cmprs = C2.copy()\n",
    "while (cmprs_status):\n",
    "    print(\"compression\", cmprs_status)\n",
    "    cmprs_status, C2 = compression(C2, n2)"
   ]
  },
  {
   "cell_type": "code",
   "execution_count": 20,
   "metadata": {},
   "outputs": [
    {
     "data": {
      "text/plain": [
       "[[-99999, 0], [4, -99999]]"
      ]
     },
     "execution_count": 20,
     "metadata": {},
     "output_type": "execute_result"
    }
   ],
   "source": [
    "C2"
   ]
  },
  {
   "cell_type": "code",
   "execution_count": 21,
   "metadata": {},
   "outputs": [
    {
     "data": {
      "text/plain": [
       "204"
      ]
     },
     "execution_count": 21,
     "metadata": {},
     "output_type": "execute_result"
    }
   ],
   "source": [
    "dist_sum"
   ]
  },
  {
   "cell_type": "code",
   "execution_count": 22,
   "metadata": {},
   "outputs": [
    {
     "name": "stdout",
     "output_type": "stream",
     "text": [
      "(0, 1) -> 0\n",
      "(1, 0) -> 4\n",
      "lowest cost=4\n"
     ]
    }
   ],
   "source": [
    "indexes = m.compute(C2)\n",
    "total_cost = 0\n",
    "for r, c in indexes:\n",
    "    x = C2[r][c]\n",
    "    total_cost += x\n",
    "    print(('(%d, %d) -> %d' % (r, c, x)))\n",
    "print(('lowest cost=%d' % total_cost))"
   ]
  },
  {
   "cell_type": "code",
   "execution_count": 23,
   "metadata": {},
   "outputs": [
    {
     "data": {
      "text/plain": [
       "[[0, 1]]"
      ]
     },
     "execution_count": 23,
     "metadata": {},
     "output_type": "execute_result"
    }
   ],
   "source": [
    "Sets2 = getSets(C2, indexes)\n",
    "Sets2"
   ]
  },
  {
   "cell_type": "code",
   "execution_count": 24,
   "metadata": {},
   "outputs": [],
   "source": [
    "#C_ = np.copy(ass_by_Hun.b).flatten()\n",
    "n3 = len(Sets2)\n",
    "C3 = np.zeros((n3, n3), dtype=int).tolist()\n",
    "for i in range(n3):\n",
    "    for j in range(n3):\n",
    "        if i == j:\n",
    "            C3[i][j] = DISALLOWED\n",
    "            continue\n",
    "        C3[i][j] = min_distance(C2, Sets2[i], Sets2[j])"
   ]
  },
  {
   "cell_type": "code",
   "execution_count": 25,
   "metadata": {
    "scrolled": true
   },
   "outputs": [
    {
     "name": "stdout",
     "output_type": "stream",
     "text": [
      "compression True\n"
     ]
    }
   ],
   "source": [
    "cmprs_status = True\n",
    "before_cmprs = C3.copy()\n",
    "while (cmprs_status):\n",
    "    print(\"compression\", cmprs_status)\n",
    "    cmprs_status, C3 = compression(C3, n3)"
   ]
  },
  {
   "cell_type": "code",
   "execution_count": 26,
   "metadata": {},
   "outputs": [
    {
     "data": {
      "text/plain": [
       "[[-99999]]"
      ]
     },
     "execution_count": 26,
     "metadata": {},
     "output_type": "execute_result"
    }
   ],
   "source": [
    "C3"
   ]
  },
  {
   "cell_type": "code",
   "execution_count": null,
   "metadata": {},
   "outputs": [],
   "source": [
    "indexes = m.compute(C3)\n",
    "total_cost = 0\n",
    "for r, c in indexes:\n",
    "    x = C3[r][c]\n",
    "    total_cost += x\n",
    "    print(('(%d, %d) -> %d' % (r, c, x)))\n",
    "print(('lowest cost=%d' % total_cost))"
   ]
  },
  {
   "cell_type": "markdown",
   "metadata": {},
   "source": [
    "# current solution: 1207"
   ]
  },
  {
   "cell_type": "markdown",
   "metadata": {},
   "source": [
    "# optimal solution of ftv33: 1286"
   ]
  },
  {
   "cell_type": "code",
   "execution_count": null,
   "metadata": {},
   "outputs": [],
   "source": []
  }
 ],
 "metadata": {
  "kernelspec": {
   "display_name": "Python 3",
   "language": "python",
   "name": "python3"
  },
  "language_info": {
   "codemirror_mode": {
    "name": "ipython",
    "version": 3
   },
   "file_extension": ".py",
   "mimetype": "text/x-python",
   "name": "python",
   "nbconvert_exporter": "python",
   "pygments_lexer": "ipython3",
   "version": "3.7.6"
  }
 },
 "nbformat": 4,
 "nbformat_minor": 4
}
